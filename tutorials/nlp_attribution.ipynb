{
 "nbformat": 4,
 "nbformat_minor": 0,
 "metadata": {
  "accelerator": "GPU",
  "colab": {
   "name": "nlp_attribution.ipynb",
   "provenance": [],
   "collapsed_sections": [],
   "toc_visible": true
  },
  "kernelspec": {
   "display_name": "Python 3",
   "language": "python",
   "name": "python3"
  },
  "language_info": {
   "codemirror_mode": {
    "name": "ipython",
    "version": 3
   },
   "file_extension": ".py",
   "mimetype": "text/x-python",
   "name": "python",
   "nbconvert_exporter": "python",
   "pygments_lexer": "ipython3",
   "version": "3.6.12"
  }
 },
 "cells": [
  {
   "cell_type": "markdown",
   "metadata": {
    "id": "F1Jt3Kt14PT9"
   },
   "source": [
    "This notebook shows how to apply the Input level bottleneck to pretrained\n",
    "4-layer LSTM models on IMDB. Before running this notebook, please make sure\n",
    "that:\n",
    "\n",
    "1. All the required packages are installed.\n",
    "\n",
    "2. Pretrained weight `path/to/informationbottleneck/pretrained/deep_lstm.pt`\n",
    " exists."
   ]
  },
  {
   "cell_type": "code",
   "metadata": {
    "colab": {
     "base_uri": "https://localhost:8080/"
    },
    "id": "D0A5Giig4PUD",
    "outputId": "b323ed31-7378-4269-a8bd-97737d8393e9"
   },
   "source": [
    "import torch\n",
    "import mmcv\n",
    "from torch.utils.data import DataLoader\n",
    "from iba.datasets import build_dataset\n",
    "from iba.models import build_attributor\n",
    "import os\n",
    "\n",
    "device = 'cuda:0'"
   ],
   "execution_count": 1,
   "outputs": []
  },
  {
   "cell_type": "markdown",
   "metadata": {
    "id": "4qF0VCBPN8z7"
   },
   "source": [
    "Change the working directory to `path/to/informationbottleneck/`, modify\n",
    "this if necessary."
   ]
  },
  {
   "cell_type": "code",
   "metadata": {
    "id": "kHbEVbHROTXY"
   },
   "source": [
    "# cwd switch from `informationbottleneck/tutorials/` to\n",
    "# `informationbottleneck/`\n",
    "os.chdir('..')\n",
    "cfg_path = 'configs/deep_lstm.py'"
   ],
   "execution_count": 2,
   "outputs": []
  },
  {
   "cell_type": "code",
   "metadata": {
    "id": "-3BGgQkJQW5r"
   },
   "source": [
    "cfg = mmcv.Config.fromfile(cfg_path)"
   ],
   "execution_count": 3,
   "outputs": []
  },
  {
   "cell_type": "code",
   "metadata": {
    "colab": {
     "base_uri": "https://localhost:8080/"
    },
    "id": "zLdqAeKiRG_W",
    "outputId": "0156c9bb-3791-4ca1-dcbb-e6aa79856d84"
   },
   "source": [
    "dataset = build_dataset(cfg.data['attribution'])\n",
    "datapoint = next(iter(dataset))"
   ],
   "execution_count": 4,
   "outputs": []
  },
  {
   "cell_type": "code",
   "metadata": {
    "id": "YAmYSZCqXmqf",
    "colab": {
     "base_uri": "https://localhost:8080/"
    },
    "outputId": "41a9439a-37d7-4d5d-b8cd-7db4249ccd16"
   },
   "source": [
    "# exam one data point\n",
    "print(\"Plain text: {}\".format(datapoint['input_text']))\n",
    "print(\"Processed text as tensor: {}\".format(datapoint['input']))\n",
    "print(\"Target class: {}\".format(datapoint['target']))\n",
    "print(\"File name: {}\".format(datapoint['input_name']))\n",
    "print(\"Text length: {}\".format(datapoint['input_length']))"
   ],
   "execution_count": 5,
   "outputs": [
    {
     "name": "stdout",
     "output_type": "stream",
     "text": [
      "Plain text: Zentropa has much in common with The Third Man, another noir-like film set among the rubble of postwar Europe. Like TTM, there is much inventive camera work. There is an innocent American who gets emotionally involved with a woman he doesn't really understand, and whose naivety is all the more striking in contrast with the natives.<br /><br />But I'd have to say that The Third Man has a more well-crafted storyline. Zentropa is a bit disjointed in this respect. Perhaps this is intentional: it is presented as a dream/nightmare, and making it too coherent would spoil the effect. <br /><br />This movie is unrelentingly grim--\"noir\" in more than one sense; one never sees the sun shine. Grim, but intriguing, and frightening.\n",
      "Processed text as tensor: tensor([13824,    52,    81,    12,  1125,    20,     2,   852,   135,     4,\n",
      "          164,     0,    23,   293,   769,     2, 15259,     7, 13683,  2278,\n",
      "            3,    45,     0,     4,    46,    10,    81,  4385,   391,   170,\n",
      "            3,    46,    10,    41,  1322,   325,    42,   216,  2107,   566,\n",
      "           20,     6,   248,    30,   159,     9,    27,    72,   388,     4,\n",
      "            5,   612, 14585,    10,    37,     2,    59,  3287,    12,  2236,\n",
      "           20,     2,  5845,     3,    22,    13,     9,   245,    33,     8,\n",
      "          141,    15,     2,   852,   135,    52,     6,    59, 10970,   753,\n",
      "            3, 13824,    10,     6,   230,  4155,    12,    14,  1159,     3,\n",
      "          380,    14,    10,  6685,    11,    10,  1317,    18,     6,     0,\n",
      "            4,     5,   257,    11,   106,  4056,    67,  2317,     2,   938,\n",
      "            3,    14,    21,    10, 24819,     0,    12,    59,    79,    35,\n",
      "          286,    35,   119,  1057,     2,  2644,  4009,     3,  2583,     4,\n",
      "           22,  1747,     4,     5,  2492,     3])\n",
      "Target class: 1\n",
      "File name: 127_7\n",
      "Text length: 136\n"
     ]
    }
   ]
  },
  {
   "cell_type": "markdown",
   "metadata": {
    "id": "GWITVSqGpjVN"
   },
   "source": [
    "# Information flow to generate input level attribution map for text data"
   ]
  },
  {
   "cell_type": "code",
   "metadata": {
    "colab": {
     "base_uri": "https://localhost:8080/"
    },
    "id": "v4QinCLK9Rdz",
    "outputId": "09a52982-c617-4d40-fe41-ad5771badc25"
   },
   "source": [
    "attributor = build_attributor(cfg.attributor, default_args=dict(device=device))"
   ],
   "execution_count": 6,
   "outputs": [
    {
     "name": "stderr",
     "output_type": "stream",
     "text": [
      "/home/yawei/anaconda3/envs/derma/lib/python3.8/site-packages/torch/nn/modules/rnn.py:60: UserWarning: dropout option adds dropout after all but last recurrent layer, so non-zero dropout expects num_layers greater than 1, but got dropout=0.5 and num_layers=1\n",
      "  warnings.warn(\"dropout option adds dropout after all but last \"\n"
     ]
    }
   ]
  },
  {
   "cell_type": "code",
   "metadata": {
    "id": "HzXYciFx0tPf"
   },
   "source": [
    "from iba.datasets import nlp_collate_fn\n",
    "dataloader = DataLoader(dataset,\n",
    "                        collate_fn=nlp_collate_fn,\n",
    "                        **cfg.data['data_loader'])"
   ],
   "execution_count": 7,
   "outputs": []
  },
  {
   "cell_type": "markdown",
   "metadata": {
    "id": "JyzXmgIqO16e"
   },
   "source": [
    "Estimate the distribution for information bottleneck at the feature map level.\n",
    "\n",
    "This will take a while."
   ]
  },
  {
   "cell_type": "code",
   "metadata": {
    "id": "_gd0sHCZ9xCk"
   },
   "source": [
    "attributor.estimate(dataloader, cfg.estimation_cfg)\n",
    "attributor.feat_iba.estimator.mean().shape"
   ],
   "execution_count": 8,
   "outputs": [
    {
     "data": {
      "text/plain": "torch.Size([256])"
     },
     "execution_count": 8,
     "metadata": {},
     "output_type": "execute_result"
    }
   ]
  },
  {
   "cell_type": "markdown",
   "metadata": {
    "id": "-M7Hgs7TqIV5"
   },
   "source": [
    "## Train Attributor on a sample text\n",
    "The training pipeline is integrated into *attributor* class"
   ]
  },
  {
   "cell_type": "code",
   "metadata": {
    "id": "zvI9bbpPj2lb"
   },
   "source": [
    "datapoint = next(iter(dataset))\n",
    "target =  datapoint['target']\n",
    "input_text = datapoint['input_text']\n",
    "input_tensor = datapoint['input']"
   ],
   "execution_count": 9,
   "outputs": []
  },
  {
   "cell_type": "markdown",
   "source": [
    "Assume the batch size of the feature iba is `batch_size`,\n",
    "then expand the the target by `batch_size` times to match the feature iba."
   ],
   "metadata": {
    "collapsed": false,
    "pycharm": {
     "name": "#%% md\n"
    }
   }
  },
  {
   "cell_type": "code",
   "execution_count": 10,
   "outputs": [],
   "source": [
    "input_tensor = input_tensor.to(device)\n",
    "feat_iba_batch_size = cfg.attribution_cfg['feat_iba']['batch_size']\n",
    "target = torch.tensor([target]).expand(\n",
    "    (feat_iba_batch_size, -1)).to(torch.float32)\n",
    "target = target.to(device)\n",
    "\n",
    "attributor.set_text(input_text)\n",
    "attributor.make_attribution(input_tensor,\n",
    "                            target,\n",
    "                            attribution_cfg=cfg.attribution_cfg)"
   ],
   "metadata": {
    "collapsed": false,
    "pycharm": {
     "name": "#%%\n"
    }
   }
  },
  {
   "cell_type": "markdown",
   "metadata": {
    "id": "QVjBQLlzqUMz"
   },
   "source": [
    "## Display feature mask from IBA (already summed over channels)\n",
    "\n",
    "We highlight tokens with different colors based on their attribution value,\n",
    "dark red means the token is very important for model decision, shallower color\n",
    "means the token is not important for model decision"
   ]
  },
  {
   "cell_type": "code",
   "metadata": {
    "id": "r9vDmo1v_KPz"
   },
   "source": [
    "# tokenizer is needed to divide text into tokens, s\n",
    "# so we can assign attribution value\n",
    "from torchtext.data.utils import get_tokenizer\n",
    "tokenizer = get_tokenizer('basic_english')"
   ],
   "execution_count": 11,
   "outputs": []
  },
  {
   "cell_type": "code",
   "metadata": {
    "id": "Aa3y1ZsWqkSs",
    "colab": {
     "base_uri": "https://localhost:8080/",
     "height": 69
    },
    "outputId": "55dbb74f-fbad-4bca-ae93-3f6a7b439166"
   },
   "source": [
    "attributor.show_feat_mask(tokenizer=tokenizer, show=True)"
   ],
   "execution_count": 12,
   "outputs": [
    {
     "data": {
      "text/plain": "<IPython.core.display.HTML object>",
      "text/html": "<span style=\"background-color:#ff3333\">i</span> <span style=\"background-color:#ff3333\">thought</span> <span style=\"background-color:#ff3333\">this</span> <span style=\"background-color:#ff3333\">movie</span> <span style=\"background-color:#ff3333\">was</span> <span style=\"background-color:#ff3333\">really</span> <span style=\"background-color:#ff3333\">really</span> <span style=\"background-color:#ff3333\">great</span> <span style=\"background-color:#ff3333\">because</span> <span style=\"background-color:#ff3333\">,</span> <span style=\"background-color:#ff3333\">in</span> <span style=\"background-color:#ff3333\">india</span> <span style=\"background-color:#ff3333\">cinemas</span> <span style=\"background-color:#ff3333\">nowadays</span> <span style=\"background-color:#ff3333\">,</span> <span style=\"background-color:#ff3333\">all</span> <span style=\"background-color:#ff3333\">you</span> <span style=\"background-color:#ff3333\">see</span> <span style=\"background-color:#ff3333\">is</span> <span style=\"background-color:#ff3333\">skin</span> <span style=\"background-color:#ff3333\">,</span> <span style=\"background-color:#ff3333\">music</span> <span style=\"background-color:#ff3333\">,</span> <span style=\"background-color:#ff3333\">and</span> <span style=\"background-color:#ff3333\">bad</span> <span style=\"background-color:#ff3333\">acting</span> <span style=\"background-color:#ff3333\">.</span> <span style=\"background-color:#ff3333\">.</span> <span style=\"background-color:#ff3333\">.</span> <span style=\"background-color:#ff3333\">in</span> <span style=\"background-color:#ff3333\">this</span> <span style=\"background-color:#ff3333\">movie</span> <span style=\"background-color:#ff3333\">,</span> <span style=\"background-color:#ff3333\">you</span> <span style=\"background-color:#ff3333\">can</span> <span style=\"background-color:#ff3333\">see</span> <span style=\"background-color:#ff3333\">some</span> <span style=\"background-color:#ff3333\">tradition</span> <span style=\"background-color:#ff3333\">,</span> <span style=\"background-color:#ff3333\">ethnicity</span> <span style=\"background-color:#ff3333\">,</span> <span style=\"background-color:#ff3333\">and</span> <span style=\"background-color:#ff0000\">at</span> <span style=\"background-color:#ff3333\">least</span> <span style=\"background-color:#ff3333\">some</span> <span style=\"background-color:#ff3333\">decency</span> <span style=\"background-color:#ff3333\">.</span> <span style=\"background-color:#ff3333\">.</span> <span style=\"background-color:#ff3333\">.</span> <span style=\"background-color:#ff3333\">although</span> <span style=\"background-color:#ff3333\">some</span> <span style=\"background-color:#ff3333\">parts</span> <span style=\"background-color:#ff3333\">were</span> <span style=\"background-color:#ff3333\">a</span> <span style=\"background-color:#ff3333\">little</span> <span style=\"background-color:#ff3333\">dramatic</span> <span style=\"background-color:#ff3333\">,</span> <span style=\"background-color:#ff3333\">guess</span> <span style=\"background-color:#ff3333\">what</span> <span style=\"background-color:#ff3333\">?</span> <span style=\"background-color:#ff3333\">that</span> <span style=\"background-color:#ff3333\">is</span> <span style=\"background-color:#ff3333\">what</span> <span style=\"background-color:#ff3333\">indian</span> <span style=\"background-color:#ff3333\">cinema</span> <span style=\"background-color:#ff3333\">is</span> <span style=\"background-color:#ff3333\">all</span> <span style=\"background-color:#ff3333\">about</span> <span style=\"background-color:#ff3333\">!</span> <span style=\"background-color:#ff3333\">after</span> <span style=\"background-color:#ff3333\">watching</span> <span style=\"background-color:#ff3333\">this</span> <span style=\"background-color:#ff3333\">movie</span> <span style=\"background-color:#ff3333\">,</span> <span style=\"background-color:#ff3333\">at</span> <span style=\"background-color:#ff3333\">least</span> <span style=\"background-color:#ff3333\">you</span> <span style=\"background-color:#ff3333\">don</span> <span style=\"background-color:#ff3333\">'</span> <span style=\"background-color:#ff3333\">t</span> <span style=\"background-color:#ff3333\">get</span> <span style=\"background-color:#ff3333\">a</span> <span style=\"background-color:#ff3333\">headache</span> <span style=\"background-color:#ff3333\">from</span> <span style=\"background-color:#ff3333\">all</span> <span style=\"background-color:#ff3333\">the</span> <span style=\"background-color:#ff3333\">loud</span> <span style=\"background-color:#ff3333\">overrated</span> <span style=\"background-color:#ff3333\">music</span> <span style=\"background-color:#ff3333\">,</span> <span style=\"background-color:#ff3333\">or</span> <span style=\"background-color:#ff3333\">any</span> <span style=\"background-color:#ff3333\">violence</span> <span style=\"background-color:#ff3333\">,</span> <span style=\"background-color:#ff3333\">its</span> <span style=\"background-color:#ff3333\">just</span> <span style=\"background-color:#ff3333\">the</span> <span style=\"background-color:#ff3333\">truth</span> <span style=\"background-color:#ff3333\">,</span> <span style=\"background-color:#ff3333\">it</span> <span style=\"background-color:#ff3333\">teaches</span> <span style=\"background-color:#ff3333\">about</span> <span style=\"background-color:#ff3333\">love</span> <span style=\"background-color:#ff3333\">,</span> <span style=\"background-color:#ff3333\">and</span> <span style=\"background-color:#ff3333\">of</span> <span style=\"background-color:#ff3333\">course</span> <span style=\"background-color:#ff3333\">caring</span> <span style=\"background-color:#ff3333\">for</span> <span style=\"background-color:#ff3333\">the</span> <span style=\"background-color:#ff3333\">person</span> <span style=\"background-color:#ff3333\">you</span> <span style=\"background-color:#ff3333\">love</span> <span style=\"background-color:#ff3333\">throughout</span> <span style=\"background-color:#ff3333\">life</span> <span style=\"background-color:#ff3333\">.</span> <span style=\"background-color:#ff3333\">.</span> <span style=\"background-color:#ff3333\">.</span> <span style=\"background-color:#ff3333\">i</span> <span style=\"background-color:#ff3333\">think</span> <span style=\"background-color:#ff3333\">it</span> <span style=\"background-color:#ff3333\">was</span> <span style=\"background-color:#ff3333\">an</span> <span style=\"background-color:#ff3333\">amazing</span> <span style=\"background-color:#ff3333\">movie</span> <span style=\"background-color:#ff3333\">.</span> <span style=\"background-color:#ff3333\">.</span> <span style=\"background-color:#ff3333\">.</span> <span style=\"background-color:#ff3333\">kids</span> <span style=\"background-color:#ff3333\">can</span> <span style=\"background-color:#ff3333\">watch</span> <span style=\"background-color:#ff3333\">it</span> <span style=\"background-color:#ff3333\">without</span> <span style=\"background-color:#ff3333\">a</span> <span style=\"background-color:#ff3333\">doubt</span> <span style=\"background-color:#ff3333\">,</span> <span style=\"background-color:#ff3333\">and</span> <span style=\"background-color:#ff3333\">adults</span> <span style=\"background-color:#ff3333\">will</span> <span style=\"background-color:#ff3333\">enjoy</span> <span style=\"background-color:#ff3333\">the</span> <span style=\"background-color:#ff3333\">simplicity</span> <span style=\"background-color:#ff3333\">that</span> <span style=\"background-color:#ff3333\">used</span> <span style=\"background-color:#ff3333\">to</span> <span style=\"background-color:#ff3333\">be</span> <span style=\"background-color:#ff3333\">india</span> <span style=\"background-color:#ff3333\">'</span> <span style=\"background-color:#ff3333\">s</span> <span style=\"background-color:#ff3333\">sure</span> <span style=\"background-color:#ff3333\">profoundness</span> <span style=\"background-color:#ff3333\">.</span> <span style=\"background-color:#ff3333\">.</span> <span style=\"background-color:#ff3333\">.</span> <span style=\"background-color:#ff3333\">until</span> <span style=\"background-color:#ff3333\">all</span> <span style=\"background-color:#ff3333\">these</span> <span style=\"background-color:#ff3333\">rap</span> <span style=\"background-color:#ff3333\">hits</span> <span style=\"background-color:#ff3333\">,</span> <span style=\"background-color:#ff3333\">miniskirts</span> <span style=\"background-color:#ff3333\">,</span> <span style=\"background-color:#ff3333\">and</span> <span style=\"background-color:#ff3333\">skin</span> <span style=\"background-color:#ff3333\">showing</span> <span style=\"background-color:#ff3333\">became</span> <span style=\"background-color:#ff3333\">a</span> <span style=\"background-color:#ff3333\">part</span> <span style=\"background-color:#ff3333\">of</span> <span style=\"background-color:#ff3333\">it</span> <span style=\"background-color:#ff3333\">.</span>"
     },
     "metadata": {},
     "output_type": "display_data"
    }
   ]
  },
  {
   "cell_type": "markdown",
   "metadata": {
    "id": "S6KCnLuArAnr"
   },
   "source": [
    "## Display final input mask (word level) learned from input IB"
   ]
  },
  {
   "cell_type": "code",
   "metadata": {
    "id": "MqHCxecfz8rh",
    "colab": {
     "base_uri": "https://localhost:8080/",
     "height": 69
    },
    "outputId": "3c1b68f3-b64f-430e-a756-8c7c598e49e5"
   },
   "source": [
    "attributor.show_input_mask(tokenizer=tokenizer, show=True)"
   ],
   "execution_count": 13,
   "outputs": [
    {
     "data": {
      "text/plain": "<IPython.core.display.HTML object>",
      "text/html": "<span style=\"background-color:#ff6666\">i</span> <span style=\"background-color:#ff3333\">thought</span> <span style=\"background-color:#ff9999\">this</span> <span style=\"background-color:#ffcccc\">movie</span> <span style=\"background-color:#ff9999\">was</span> <span style=\"background-color:#ff6666\">really</span> <span style=\"background-color:#ff6666\">really</span> <span style=\"background-color:#ff3333\">great</span> <span style=\"background-color:#ffcccc\">because</span> <span style=\"background-color:#ffffff\">,</span> <span style=\"background-color:#ff9999\">in</span> <span style=\"background-color:#ff9999\">india</span> <span style=\"background-color:#ff6666\">cinemas</span> <span style=\"background-color:#ff6666\">nowadays</span> <span style=\"background-color:#ffcccc\">,</span> <span style=\"background-color:#ffcccc\">all</span> <span style=\"background-color:#ffcccc\">you</span> <span style=\"background-color:#ff9999\">see</span> <span style=\"background-color:#ff9999\">is</span> <span style=\"background-color:#ff9999\">skin</span> <span style=\"background-color:#ffffff\">,</span> <span style=\"background-color:#ffcccc\">music</span> <span style=\"background-color:#ffffff\">,</span> <span style=\"background-color:#ffcccc\">and</span> <span style=\"background-color:#ffcccc\">bad</span> <span style=\"background-color:#ffffff\">acting</span> <span style=\"background-color:#ffcccc\">.</span> <span style=\"background-color:#ffffff\">.</span> <span style=\"background-color:#ffffff\">.</span> <span style=\"background-color:#ffcccc\">in</span> <span style=\"background-color:#ffcccc\">this</span> <span style=\"background-color:#ff9999\">movie</span> <span style=\"background-color:#ffcccc\">,</span> <span style=\"background-color:#ffcccc\">you</span> <span style=\"background-color:#ffffff\">can</span> <span style=\"background-color:#ffffff\">see</span> <span style=\"background-color:#ffcccc\">some</span> <span style=\"background-color:#ffcccc\">tradition</span> <span style=\"background-color:#ffcccc\">,</span> <span style=\"background-color:#ff9999\">ethnicity</span> <span style=\"background-color:#ffffff\">,</span> <span style=\"background-color:#ffffff\">and</span> <span style=\"background-color:#ffcccc\">at</span> <span style=\"background-color:#ffcccc\">least</span> <span style=\"background-color:#ffffff\">some</span> <span style=\"background-color:#ffcccc\">decency</span> <span style=\"background-color:#ffffff\">.</span> <span style=\"background-color:#ffcccc\">.</span> <span style=\"background-color:#ffcccc\">.</span> <span style=\"background-color:#ffcccc\">although</span> <span style=\"background-color:#ffffff\">some</span> <span style=\"background-color:#ffffff\">parts</span> <span style=\"background-color:#ffffff\">were</span> <span style=\"background-color:#ffcccc\">a</span> <span style=\"background-color:#ffcccc\">little</span> <span style=\"background-color:#ffcccc\">dramatic</span> <span style=\"background-color:#ffffff\">,</span> <span style=\"background-color:#ffffff\">guess</span> <span style=\"background-color:#ffffff\">what</span> <span style=\"background-color:#ffcccc\">?</span> <span style=\"background-color:#ffcccc\">that</span> <span style=\"background-color:#ffcccc\">is</span> <span style=\"background-color:#ffcccc\">what</span> <span style=\"background-color:#ffcccc\">indian</span> <span style=\"background-color:#ffffff\">cinema</span> <span style=\"background-color:#ffffff\">is</span> <span style=\"background-color:#ffffff\">all</span> <span style=\"background-color:#ffffff\">about</span> <span style=\"background-color:#ffffff\">!</span> <span style=\"background-color:#ffffff\">after</span> <span style=\"background-color:#ffcccc\">watching</span> <span style=\"background-color:#ffffff\">this</span> <span style=\"background-color:#ffcccc\">movie</span> <span style=\"background-color:#ffffff\">,</span> <span style=\"background-color:#ff9999\">at</span> <span style=\"background-color:#ffcccc\">least</span> <span style=\"background-color:#ffffff\">you</span> <span style=\"background-color:#ffffff\">don</span> <span style=\"background-color:#ffcccc\">'</span> <span style=\"background-color:#ffffff\">t</span> <span style=\"background-color:#ffffff\">get</span> <span style=\"background-color:#ffcccc\">a</span> <span style=\"background-color:#ffcccc\">headache</span> <span style=\"background-color:#ffcccc\">from</span> <span style=\"background-color:#ffffff\">all</span> <span style=\"background-color:#ffffff\">the</span> <span style=\"background-color:#ffcccc\">loud</span> <span style=\"background-color:#ffcccc\">overrated</span> <span style=\"background-color:#ffffff\">music</span> <span style=\"background-color:#ffffff\">,</span> <span style=\"background-color:#ffcccc\">or</span> <span style=\"background-color:#ffcccc\">any</span> <span style=\"background-color:#ffffff\">violence</span> <span style=\"background-color:#ffffff\">,</span> <span style=\"background-color:#ffcccc\">its</span> <span style=\"background-color:#ffcccc\">just</span> <span style=\"background-color:#ffcccc\">the</span> <span style=\"background-color:#ff9999\">truth</span> <span style=\"background-color:#ffffff\">,</span> <span style=\"background-color:#ffcccc\">it</span> <span style=\"background-color:#ff9999\">teaches</span> <span style=\"background-color:#ffcccc\">about</span> <span style=\"background-color:#ffcccc\">love</span> <span style=\"background-color:#ffcccc\">,</span> <span style=\"background-color:#ffffff\">and</span> <span style=\"background-color:#ffffff\">of</span> <span style=\"background-color:#ffffff\">course</span> <span style=\"background-color:#ffcccc\">caring</span> <span style=\"background-color:#ffcccc\">for</span> <span style=\"background-color:#ffffff\">the</span> <span style=\"background-color:#ffcccc\">person</span> <span style=\"background-color:#ffcccc\">you</span> <span style=\"background-color:#ff9999\">love</span> <span style=\"background-color:#ff9999\">throughout</span> <span style=\"background-color:#ffcccc\">life</span> <span style=\"background-color:#ffcccc\">.</span> <span style=\"background-color:#ffffff\">.</span> <span style=\"background-color:#ff9999\">.</span> <span style=\"background-color:#ff9999\">i</span> <span style=\"background-color:#ff9999\">think</span> <span style=\"background-color:#ffffff\">it</span> <span style=\"background-color:#ffcccc\">was</span> <span style=\"background-color:#ff9999\">an</span> <span style=\"background-color:#ff0000\">amazing</span> <span style=\"background-color:#ffcccc\">movie</span> <span style=\"background-color:#ffcccc\">.</span> <span style=\"background-color:#ffcccc\">.</span> <span style=\"background-color:#ffcccc\">.</span> <span style=\"background-color:#ffcccc\">kids</span> <span style=\"background-color:#ffffff\">can</span> <span style=\"background-color:#ffcccc\">watch</span> <span style=\"background-color:#ff9999\">it</span> <span style=\"background-color:#ffcccc\">without</span> <span style=\"background-color:#ffffff\">a</span> <span style=\"background-color:#ffcccc\">doubt</span> <span style=\"background-color:#ffcccc\">,</span> <span style=\"background-color:#ffcccc\">and</span> <span style=\"background-color:#ff9999\">adults</span> <span style=\"background-color:#ffcccc\">will</span> <span style=\"background-color:#ff9999\">enjoy</span> <span style=\"background-color:#ffffff\">the</span> <span style=\"background-color:#ff9999\">simplicity</span> <span style=\"background-color:#ffffff\">that</span> <span style=\"background-color:#ffcccc\">used</span> <span style=\"background-color:#ffffff\">to</span> <span style=\"background-color:#ffcccc\">be</span> <span style=\"background-color:#ffcccc\">india</span> <span style=\"background-color:#ffcccc\">'</span> <span style=\"background-color:#ffcccc\">s</span> <span style=\"background-color:#ff9999\">sure</span> <span style=\"background-color:#ffcccc\">profoundness</span> <span style=\"background-color:#ffffff\">.</span> <span style=\"background-color:#ffcccc\">.</span> <span style=\"background-color:#ffffff\">.</span> <span style=\"background-color:#ffcccc\">until</span> <span style=\"background-color:#ff9999\">all</span> <span style=\"background-color:#ff9999\">these</span> <span style=\"background-color:#ff6666\">rap</span> <span style=\"background-color:#ff6666\">hits</span> <span style=\"background-color:#ffcccc\">,</span> <span style=\"background-color:#ff9999\">miniskirts</span> <span style=\"background-color:#ffcccc\">,</span> <span style=\"background-color:#ff9999\">and</span> <span style=\"background-color:#ff6666\">skin</span> <span style=\"background-color:#ff6666\">showing</span> <span style=\"background-color:#ff9999\">became</span> <span style=\"background-color:#ff9999\">a</span> <span style=\"background-color:#ffcccc\">part</span> <span style=\"background-color:#ff6666\">of</span> <span style=\"background-color:#ff6666\">it</span> <span style=\"background-color:#ff9999\">.</span>"
     },
     "metadata": {},
     "output_type": "display_data"
    }
   ]
  },
  {
   "cell_type": "code",
   "execution_count": null,
   "outputs": [],
   "source": [],
   "metadata": {
    "collapsed": false,
    "pycharm": {
     "name": "#%%\n"
    }
   }
  }
 ]
}