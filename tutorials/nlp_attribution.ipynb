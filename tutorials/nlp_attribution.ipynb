{
 "nbformat": 4,
 "nbformat_minor": 0,
 "metadata": {
  "accelerator": "GPU",
  "colab": {
   "name": "nlp_attribution.ipynb",
   "provenance": [],
   "collapsed_sections": [],
   "toc_visible": true
  },
  "kernelspec": {
   "display_name": "Python 3",
   "language": "python",
   "name": "python3"
  },
  "language_info": {
   "codemirror_mode": {
    "name": "ipython",
    "version": 3
   },
   "file_extension": ".py",
   "mimetype": "text/x-python",
   "name": "python",
   "nbconvert_exporter": "python",
   "pygments_lexer": "ipython3",
   "version": "3.6.12"
  }
 },
 "cells": [
  {
   "cell_type": "markdown",
   "metadata": {
    "id": "F1Jt3Kt14PT9"
   },
   "source": [
    "# PyTorch: IBA (Per-Sample Bottleneck)\n",
    "\n",
    "This notebook shows how to apply the Input level bottleneck to pretrained 4-layer LSTM models on IMDB. \n",
    "\n",
    "Make sure to run this notebook under the correct environment with all dependencies"
   ]
  },
  {
   "cell_type": "code",
   "metadata": {
    "colab": {
     "base_uri": "https://localhost:8080/"
    },
    "id": "D0A5Giig4PUD",
    "outputId": "b323ed31-7378-4269-a8bd-97737d8393e9"
   },
   "source": [
    "# to set you cuda device\n",
    "%env CUDA_VISIBLE_DEVICES=0\n",
    "\n",
    "%load_ext autoreload\n",
    "%autoreload 2\n",
    "\n",
    "import torch\n",
    "from torch import nn\n",
    "from torch.utils.data import DataLoader\n",
    "import matplotlib.pyplot as plt \n",
    "import os\n",
    "from tqdm import tqdm_notebook\n",
    "import json\n",
    "from PIL import Image\n",
    "import numpy as np\n",
    "import sys\n",
    "\n",
    "import iba\n",
    "\n",
    "from iba.models import NLPAttributor\n",
    "from iba.models import build_attributor"
   ],
   "execution_count": null,
   "outputs": [
    {
     "output_type": "stream",
     "text": [
      "env: CUDA_VISIBLE_DEVICES=0\n"
     ],
     "name": "stdout"
    }
   ]
  },
  {
   "cell_type": "markdown",
   "metadata": {
    "id": "1vD-TduC4PUE"
   },
   "source": [
    "## Load and check data"
   ]
  },
  {
   "cell_type": "markdown",
   "metadata": {
    "id": "4qF0VCBPN8z7"
   },
   "source": [
    "Change this to the path of config file (_dir/configs/deep_lstm.py)"
   ]
  },
  {
   "cell_type": "code",
   "metadata": {
    "id": "kHbEVbHROTXY"
   },
   "source": [
    "# this assumes the work dir is the project dir\n",
    "cfg_path = 'project_dir/configs/deep_lstm.py'"
   ],
   "execution_count": null,
   "outputs": []
  },
  {
   "cell_type": "code",
   "metadata": {
    "id": "-3BGgQkJQW5r"
   },
   "source": [
    "from iba.datasets import build_dataset\n",
    "import mmcv\n",
    "cfg = mmcv.Config.fromfile(cfg_path)\n",
    "cfg.attribution_cfg['input_mask']['show'] = True"
   ],
   "execution_count": null,
   "outputs": []
  },
  {
   "cell_type": "code",
   "metadata": {
    "colab": {
     "base_uri": "https://localhost:8080/"
    },
    "id": "zLdqAeKiRG_W",
    "outputId": "0156c9bb-3791-4ca1-dcbb-e6aa79856d84"
   },
   "source": [
    "dataset = build_dataset(cfg.data['attribution'])"
   ],
   "execution_count": null,
   "outputs": [
    {
     "output_type": "stream",
     "text": [
      "aclImdb_v1.tar.gz: 100%|██████████| 84.1M/84.1M [00:05<00:00, 14.2MB/s]\n",
      "data/vector_cache/glove.6B.zip: 862MB [02:42, 5.30MB/s]                           \n",
      "100%|█████████▉| 399211/400000 [00:21<00:00, 18973.05it/s]"
     ],
     "name": "stderr"
    }
   ]
  },
  {
   "cell_type": "code",
   "metadata": {
    "id": "hg-UBmaxYqFK"
   },
   "source": [
    "datapoint = next(iter(dataset))"
   ],
   "execution_count": null,
   "outputs": []
  },
  {
   "cell_type": "code",
   "metadata": {
    "id": "YAmYSZCqXmqf",
    "colab": {
     "base_uri": "https://localhost:8080/"
    },
    "outputId": "41a9439a-37d7-4d5d-b8cd-7db4249ccd16"
   },
   "source": [
    "# exam one data point\n",
    "print(\"Plain text: {}\".format(datapoint['input_text']))\n",
    "print(\"Processed text as tensor: {}\".format(datapoint['input']))\n",
    "print(\"Target class: {}\".format(datapoint['target']))\n",
    "print(\"File name: {}\".format(datapoint['input_name']))\n",
    "print(\"Text length: {}\".format(datapoint['input_length']))"
   ],
   "execution_count": null,
   "outputs": [
    {
     "output_type": "stream",
     "text": [
      "Plain text: Zentropa has much in common with The Third Man, another noir-like film set among the rubble of postwar Europe. Like TTM, there is much inventive camera work. There is an innocent American who gets emotionally involved with a woman he doesn't really understand, and whose naivety is all the more striking in contrast with the natives.<br /><br />But I'd have to say that The Third Man has a more well-crafted storyline. Zentropa is a bit disjointed in this respect. Perhaps this is intentional: it is presented as a dream/nightmare, and making it too coherent would spoil the effect. <br /><br />This movie is unrelentingly grim--\"noir\" in more than one sense; one never sees the sun shine. Grim, but intriguing, and frightening.\n",
      "Processed text as tensor: tensor([13824,    52,    81,    12,  1125,    20,     2,   852,   135,     4,\n",
      "          164,     0,    23,   293,   769,     2, 15259,     7, 13683,  2278,\n",
      "            3,    45,     0,     4,    46,    10,    81,  4385,   391,   170,\n",
      "            3,    46,    10,    41,  1322,   325,    42,   216,  2107,   566,\n",
      "           20,     6,   248,    30,   159,     9,    27,    72,   388,     4,\n",
      "            5,   612, 14585,    10,    37,     2,    59,  3287,    12,  2236,\n",
      "           20,     2,  5845,     3,    22,    13,     9,   245,    33,     8,\n",
      "          141,    15,     2,   852,   135,    52,     6,    59, 10970,   753,\n",
      "            3, 13824,    10,     6,   230,  4155,    12,    14,  1159,     3,\n",
      "          380,    14,    10,  6685,    11,    10,  1317,    18,     6,     0,\n",
      "            4,     5,   257,    11,   106,  4056,    67,  2317,     2,   938,\n",
      "            3,    14,    21,    10, 24819,     0,    12,    59,    79,    35,\n",
      "          286,    35,   119,  1057,     2,  2644,  4009,     3,  2583,     4,\n",
      "           22,  1747,     4,     5,  2492,     3])\n",
      "Target class: 1\n",
      "File name: 127_7\n",
      "Text length: 136\n"
     ],
     "name": "stdout"
    }
   ]
  },
  {
   "cell_type": "markdown",
   "metadata": {
    "id": "GWITVSqGpjVN"
   },
   "source": [
    "# Information flow to generate input level attribution map for text data"
   ]
  },
  {
   "cell_type": "code",
   "metadata": {
    "id": "JO6VRsbWg8Qc"
   },
   "source": [
    "device='cuda:0'"
   ],
   "execution_count": null,
   "outputs": []
  },
  {
   "cell_type": "code",
   "metadata": {
    "colab": {
     "base_uri": "https://localhost:8080/"
    },
    "id": "v4QinCLK9Rdz",
    "outputId": "09a52982-c617-4d40-fe41-ad5771badc25"
   },
   "source": [
    "attributor = build_attributor(cfg.attributor, default_args=dict(device=device))"
   ],
   "execution_count": null,
   "outputs": [
    {
     "output_type": "stream",
     "text": [
      "/usr/local/lib/python3.7/dist-packages/torch/nn/modules/rnn.py:63: UserWarning: dropout option adds dropout after all but last recurrent layer, so non-zero dropout expects num_layers greater than 1, but got dropout=0.5 and num_layers=1\n",
      "  \"num_layers={}\".format(dropout, num_layers))\n",
      "100%|█████████▉| 399211/400000 [00:39<00:00, 18973.05it/s]"
     ],
     "name": "stderr"
    }
   ]
  },
  {
   "cell_type": "code",
   "metadata": {
    "id": "HzXYciFx0tPf"
   },
   "source": [
    "from iba.datasets import nlp_collate_fn\n",
    "dataloader = DataLoader(dataset, batch_size=8, shuffle=False, collate_fn=nlp_collate_fn)"
   ],
   "execution_count": null,
   "outputs": []
  },
  {
   "cell_type": "markdown",
   "metadata": {
    "id": "JyzXmgIqO16e"
   },
   "source": [
    "Estimate the distribution for hidden information bottleneck"
   ]
  },
  {
   "cell_type": "code",
   "metadata": {
    "id": "_gd0sHCZ9xCk"
   },
   "source": [
    "attributor.estimate(dataloader, cfg.estimation_cfg)"
   ],
   "execution_count": null,
   "outputs": []
  },
  {
   "cell_type": "code",
   "metadata": {
    "colab": {
     "base_uri": "https://localhost:8080/"
    },
    "id": "TfWrn9G12YDE",
    "outputId": "d64f7a75-b72e-4c75-ba8d-c938cd1e9cab"
   },
   "source": [
    "attributor.feat_iba.estimator.mean().shape"
   ],
   "execution_count": null,
   "outputs": [
    {
     "output_type": "execute_result",
     "data": {
      "text/plain": [
       "torch.Size([256])"
      ]
     },
     "metadata": {
      "tags": []
     },
     "execution_count": 13
    }
   ]
  },
  {
   "cell_type": "markdown",
   "metadata": {
    "id": "-M7Hgs7TqIV5"
   },
   "source": [
    "## Train Attributor on a sample text\n",
    "The training pipeline is integrated into *attributor* class"
   ]
  },
  {
   "cell_type": "code",
   "metadata": {
    "id": "zvI9bbpPj2lb"
   },
   "source": [
    "datapoint = next(iter(dataset))"
   ],
   "execution_count": null,
   "outputs": []
  },
  {
   "cell_type": "code",
   "metadata": {
    "id": "lQOai7zsknEg"
   },
   "source": [
    "label =  datapoint['target']"
   ],
   "execution_count": null,
   "outputs": []
  },
  {
   "cell_type": "code",
   "metadata": {
    "id": "Sr5z1ltA3BGl"
   },
   "source": [
    "text = datapoint['input_text']"
   ],
   "execution_count": null,
   "outputs": []
  },
  {
   "cell_type": "code",
   "metadata": {
    "id": "auWMgD5Ilf0p"
   },
   "source": [
    "input = datapoint['input']"
   ],
   "execution_count": null,
   "outputs": []
  },
  {
   "cell_type": "code",
   "metadata": {
    "id": "Jfe3tBso4RfR"
   },
   "source": [
    "target = torch.tensor([label]).double().expand(10,-1)"
   ],
   "execution_count": null,
   "outputs": []
  },
  {
   "cell_type": "code",
   "metadata": {
    "id": "nH37-aaS_Yvr"
   },
   "source": [
    "# expand target 10 times to match the batch inside attributor\n",
    "target = torch.tensor([label]).double().expand(10,-1)\n",
    "attributor.set_text(text)\n",
    "attributor.make_attribution(input.to(device),\n",
    "              target.to(device),\n",
    "              attribution_cfg=cfg.attribution_cfg)"
   ],
   "execution_count": null,
   "outputs": []
  },
  {
   "cell_type": "markdown",
   "metadata": {
    "id": "QVjBQLlzqUMz"
   },
   "source": [
    "## Display feature mask from IBA (already summed over channels)"
   ]
  },
  {
   "cell_type": "markdown",
   "metadata": {
    "id": "gbZMTTF_PrDf"
   },
   "source": [
    "We highlight tokens with different colors based on their attribution value, dark red means the token is very important for model decision, shallower color means the token is not important for model decision"
   ]
  },
  {
   "cell_type": "code",
   "metadata": {
    "id": "r9vDmo1v_KPz"
   },
   "source": [
    "# tokenizer is needed to divide text into tokens, so we can assign attribution value\n",
    "from torchtext.data.utils import get_tokenizer\n",
    "tokenizer = get_tokenizer('basic_english')"
   ],
   "execution_count": null,
   "outputs": []
  },
  {
   "cell_type": "code",
   "metadata": {
    "id": "Aa3y1ZsWqkSs",
    "colab": {
     "base_uri": "https://localhost:8080/",
     "height": 69
    },
    "outputId": "55dbb74f-fbad-4bca-ae93-3f6a7b439166"
   },
   "source": [
    "attributor.show_feat_mask(tokenizer=tokenizer, show=True)"
   ],
   "execution_count": null,
   "outputs": [
    {
     "output_type": "display_data",
     "data": {
      "text/html": [
       "<span style=\"background-color:#ff3333\">this</span> <span style=\"background-color:#ff3333\">film</span> <span style=\"background-color:#ff3333\">has</span> <span style=\"background-color:#ff3333\">a</span> <span style=\"background-color:#ff3333\">special</span> <span style=\"background-color:#ff3333\">place</span> <span style=\"background-color:#ff3333\">in</span> <span style=\"background-color:#ff3333\">my</span> <span style=\"background-color:#ff3333\">heart</span> <span style=\"background-color:#ff3333\">,</span> <span style=\"background-color:#ff3333\">as</span> <span style=\"background-color:#ff3333\">when</span> <span style=\"background-color:#ff3333\">i</span> <span style=\"background-color:#ff3333\">caught</span> <span style=\"background-color:#ff3333\">it</span> <span style=\"background-color:#ff3333\">the</span> <span style=\"background-color:#ff3333\">first</span> <span style=\"background-color:#ff3333\">time</span> <span style=\"background-color:#ff3333\">,</span> <span style=\"background-color:#ff3333\">i</span> <span style=\"background-color:#ff3333\">was</span> <span style=\"background-color:#ff3333\">teaching</span> <span style=\"background-color:#ff3333\">adult</span> <span style=\"background-color:#ff3333\">literacy</span> <span style=\"background-color:#ff3333\">.</span> <span style=\"background-color:#ff3333\">it</span> <span style=\"background-color:#ff3333\">rang</span> <span style=\"background-color:#ff3333\">very</span> <span style=\"background-color:#ff3333\">true</span> <span style=\"background-color:#ff3333\">to</span> <span style=\"background-color:#ff3333\">me</span> <span style=\"background-color:#ff3333\">and</span> <span style=\"background-color:#ff3333\">even</span> <span style=\"background-color:#ff3333\">an</span> <span style=\"background-color:#ff3333\">outstanding</span> <span style=\"background-color:#ff3333\">student</span> <span style=\"background-color:#ff3333\">i</span> <span style=\"background-color:#ff3333\">had</span> <span style=\"background-color:#ff3333\">at</span> <span style=\"background-color:#ff3333\">the</span> <span style=\"background-color:#ff3333\">time</span> <span style=\"background-color:#ff3333\">.</span> <span style=\"background-color:#ff3333\">there</span> <span style=\"background-color:#ff3333\">are</span> <span style=\"background-color:#ff3333\">scenes</span> <span style=\"background-color:#ff3333\">which</span> <span style=\"background-color:#ff3333\">make</span> <span style=\"background-color:#ff3333\">you</span> <span style=\"background-color:#ff3333\">gulp</span> <span style=\"background-color:#ff3333\">with</span> <span style=\"background-color:#ff3333\">sudden</span> <span style=\"background-color:#ff3333\">emotion</span> <span style=\"background-color:#ff3333\">,</span> <span style=\"background-color:#ff3333\">and</span> <span style=\"background-color:#ff3333\">those</span> <span style=\"background-color:#ff3333\">which</span> <span style=\"background-color:#ff3333\">even</span> <span style=\"background-color:#ff3333\">put</span> <span style=\"background-color:#ff3333\">a</span> <span style=\"background-color:#ff3333\">smile</span> <span style=\"background-color:#ff3333\">on</span> <span style=\"background-color:#ff3333\">your</span> <span style=\"background-color:#ff3333\">face</span> <span style=\"background-color:#ff3333\">through</span> <span style=\"background-color:#ff3333\">sheer</span> <span style=\"background-color:#ff3333\">identification</span> <span style=\"background-color:#ff3333\">with</span> <span style=\"background-color:#ff3333\">the</span> <span style=\"background-color:#ff3333\">characters</span> <span style=\"background-color:#ff3333\">and</span> <span style=\"background-color:#ff3333\">their</span> <span style=\"background-color:#ff3333\">situation</span> <span style=\"background-color:#ff0000\">.</span> <span style=\"background-color:#ff3333\">excellent</span> <span style=\"background-color:#ff3333\">performances</span> <span style=\"background-color:#ff3333\">by</span> <span style=\"background-color:#ff3333\">jane</span> <span style=\"background-color:#ff3333\">fonda</span> <span style=\"background-color:#ff3333\">and</span> <span style=\"background-color:#ff3333\">robert</span> <span style=\"background-color:#ff3333\">deniro</span> <span style=\"background-color:#ff3333\">that</span> <span style=\"background-color:#ff3333\">rank</span> <span style=\"background-color:#ff3333\">with</span> <span style=\"background-color:#ff3333\">their</span> <span style=\"background-color:#ff3333\">best</span> <span style=\"background-color:#ff3333\">work</span> <span style=\"background-color:#ff3333\">,</span> <span style=\"background-color:#ff3333\">a</span> <span style=\"background-color:#ff3333\">great</span> <span style=\"background-color:#ff3333\">turn</span> <span style=\"background-color:#ff3333\">by</span> <span style=\"background-color:#ff3333\">a</span> <span style=\"background-color:#ff3333\">young</span> <span style=\"background-color:#ff3333\">martha</span> <span style=\"background-color:#ff3333\">plimpton</span> <span style=\"background-color:#ff3333\">,</span> <span style=\"background-color:#ff3333\">an</span> <span style=\"background-color:#ff3333\">inspiring</span> <span style=\"background-color:#ff3333\">story</span> <span style=\"background-color:#ff3333\">line</span> <span style=\"background-color:#ff3333\">,</span> <span style=\"background-color:#ff3333\">and</span> <span style=\"background-color:#ff3333\">a</span> <span style=\"background-color:#ff3333\">haunting</span> <span style=\"background-color:#ff3333\">musical</span> <span style=\"background-color:#ff3333\">score</span> <span style=\"background-color:#ff3333\">makes</span> <span style=\"background-color:#ff3333\">for</span> <span style=\"background-color:#ff3333\">a</span> <span style=\"background-color:#ff3333\">most</span> <span style=\"background-color:#ff3333\">enjoyable</span> <span style=\"background-color:#ff3333\">and</span> <span style=\"background-color:#ff3333\">rewarding</span> <span style=\"background-color:#ff3333\">experience</span> <span style=\"background-color:#ff3333\">.</span>"
      ],
      "text/plain": [
       "<IPython.core.display.HTML object>"
      ]
     },
     "metadata": {
      "tags": []
     }
    }
   ]
  },
  {
   "cell_type": "markdown",
   "metadata": {
    "id": "S6KCnLuArAnr"
   },
   "source": [
    "## Display final word mask learned from image IB"
   ]
  },
  {
   "cell_type": "code",
   "metadata": {
    "id": "MqHCxecfz8rh",
    "colab": {
     "base_uri": "https://localhost:8080/",
     "height": 69
    },
    "outputId": "3c1b68f3-b64f-430e-a756-8c7c598e49e5"
   },
   "source": [
    "attributor.show_input_mask(tokenizer=tokenizer, show=True)"
   ],
   "execution_count": null,
   "outputs": [
    {
     "output_type": "display_data",
     "data": {
      "text/html": [
       "<span style=\"background-color:#ffcccc\">this</span> <span style=\"background-color:#ffcccc\">film</span> <span style=\"background-color:#ffcccc\">has</span> <span style=\"background-color:#ffcccc\">a</span> <span style=\"background-color:#ffcccc\">special</span> <span style=\"background-color:#ffcccc\">place</span> <span style=\"background-color:#ffcccc\">in</span> <span style=\"background-color:#ffcccc\">my</span> <span style=\"background-color:#ffcccc\">heart</span> <span style=\"background-color:#ffcccc\">,</span> <span style=\"background-color:#ffcccc\">as</span> <span style=\"background-color:#ffcccc\">when</span> <span style=\"background-color:#ffffff\">i</span> <span style=\"background-color:#ffcccc\">caught</span> <span style=\"background-color:#ffcccc\">it</span> <span style=\"background-color:#ffffff\">the</span> <span style=\"background-color:#ffcccc\">first</span> <span style=\"background-color:#ffcccc\">time</span> <span style=\"background-color:#ffffff\">,</span> <span style=\"background-color:#ffffff\">i</span> <span style=\"background-color:#ffffff\">was</span> <span style=\"background-color:#ffffff\">teaching</span> <span style=\"background-color:#ffffff\">adult</span> <span style=\"background-color:#ffcccc\">literacy</span> <span style=\"background-color:#ffcccc\">.</span> <span style=\"background-color:#ffcccc\">it</span> <span style=\"background-color:#ffcccc\">rang</span> <span style=\"background-color:#ffcccc\">very</span> <span style=\"background-color:#ff9999\">true</span> <span style=\"background-color:#ffcccc\">to</span> <span style=\"background-color:#ffcccc\">me</span> <span style=\"background-color:#ffffff\">and</span> <span style=\"background-color:#ffcccc\">even</span> <span style=\"background-color:#ffcccc\">an</span> <span style=\"background-color:#ff9999\">outstanding</span> <span style=\"background-color:#ffffff\">student</span> <span style=\"background-color:#ffcccc\">i</span> <span style=\"background-color:#ffcccc\">had</span> <span style=\"background-color:#ffffff\">at</span> <span style=\"background-color:#ffffff\">the</span> <span style=\"background-color:#ffffff\">time</span> <span style=\"background-color:#ffcccc\">.</span> <span style=\"background-color:#ffffff\">there</span> <span style=\"background-color:#ffcccc\">are</span> <span style=\"background-color:#ffcccc\">scenes</span> <span style=\"background-color:#ffcccc\">which</span> <span style=\"background-color:#ffffff\">make</span> <span style=\"background-color:#ffcccc\">you</span> <span style=\"background-color:#ffcccc\">gulp</span> <span style=\"background-color:#ffcccc\">with</span> <span style=\"background-color:#ffcccc\">sudden</span> <span style=\"background-color:#ffcccc\">emotion</span> <span style=\"background-color:#ffcccc\">,</span> <span style=\"background-color:#ffcccc\">and</span> <span style=\"background-color:#ffcccc\">those</span> <span style=\"background-color:#ffcccc\">which</span> <span style=\"background-color:#ffcccc\">even</span> <span style=\"background-color:#ffffff\">put</span> <span style=\"background-color:#ffcccc\">a</span> <span style=\"background-color:#ffcccc\">smile</span> <span style=\"background-color:#ffcccc\">on</span> <span style=\"background-color:#ffffff\">your</span> <span style=\"background-color:#ffcccc\">face</span> <span style=\"background-color:#ffffff\">through</span> <span style=\"background-color:#ffcccc\">sheer</span> <span style=\"background-color:#ffcccc\">identification</span> <span style=\"background-color:#ffffff\">with</span> <span style=\"background-color:#ffffff\">the</span> <span style=\"background-color:#ffcccc\">characters</span> <span style=\"background-color:#ffcccc\">and</span> <span style=\"background-color:#ffffff\">their</span> <span style=\"background-color:#ffcccc\">situation</span> <span style=\"background-color:#ffcccc\">.</span> <span style=\"background-color:#ff6666\">excellent</span> <span style=\"background-color:#ffcccc\">performances</span> <span style=\"background-color:#ffcccc\">by</span> <span style=\"background-color:#ffcccc\">jane</span> <span style=\"background-color:#ff9999\">fonda</span> <span style=\"background-color:#ffcccc\">and</span> <span style=\"background-color:#ffcccc\">robert</span> <span style=\"background-color:#ff9999\">deniro</span> <span style=\"background-color:#ffcccc\">that</span> <span style=\"background-color:#ff9999\">rank</span> <span style=\"background-color:#ffffff\">with</span> <span style=\"background-color:#ffcccc\">their</span> <span style=\"background-color:#ffcccc\">best</span> <span style=\"background-color:#ffcccc\">work</span> <span style=\"background-color:#ffcccc\">,</span> <span style=\"background-color:#ffcccc\">a</span> <span style=\"background-color:#ff9999\">great</span> <span style=\"background-color:#ffcccc\">turn</span> <span style=\"background-color:#ffcccc\">by</span> <span style=\"background-color:#ffffff\">a</span> <span style=\"background-color:#ffcccc\">young</span> <span style=\"background-color:#ffcccc\">martha</span> <span style=\"background-color:#ff9999\">plimpton</span> <span style=\"background-color:#ffcccc\">,</span> <span style=\"background-color:#ffcccc\">an</span> <span style=\"background-color:#ff6666\">inspiring</span> <span style=\"background-color:#ff9999\">story</span> <span style=\"background-color:#ffcccc\">line</span> <span style=\"background-color:#ffcccc\">,</span> <span style=\"background-color:#ff9999\">and</span> <span style=\"background-color:#ffcccc\">a</span> <span style=\"background-color:#ff6666\">haunting</span> <span style=\"background-color:#ffcccc\">musical</span> <span style=\"background-color:#ff9999\">score</span> <span style=\"background-color:#ff9999\">makes</span> <span style=\"background-color:#ffcccc\">for</span> <span style=\"background-color:#ff9999\">a</span> <span style=\"background-color:#ff6666\">most</span> <span style=\"background-color:#ff0000\">enjoyable</span> <span style=\"background-color:#ff9999\">and</span> <span style=\"background-color:#ff3333\">rewarding</span> <span style=\"background-color:#ff6666\">experience</span> <span style=\"background-color:#ffcccc\">.</span>"
      ],
      "text/plain": [
       "<IPython.core.display.HTML object>"
      ]
     },
     "metadata": {
      "tags": []
     }
    }
   ]
  }
 ]
}